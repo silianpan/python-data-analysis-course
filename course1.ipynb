{
 "cells": [
  {
   "cell_type": "markdown",
   "metadata": {},
   "source": [
    "# 课程1：Python基础（一）"
   ]
  },
  {
   "cell_type": "code",
   "execution_count": 23,
   "metadata": {},
   "outputs": [
    {
     "name": "stdout",
     "output_type": "stream",
     "text": [
      "Hello World\n"
     ]
    }
   ],
   "source": [
    "# 一个cell输出多行语句\n",
    "from IPython.core.interactiveshell import InteractiveShell\n",
    "InteractiveShell.ast_node_interactivity = \"all\"\n",
    "\n",
    "print('Hello World')"
   ]
  },
  {
   "cell_type": "code",
   "execution_count": 24,
   "metadata": {},
   "outputs": [
    {
     "name": "stdout",
     "output_type": "stream",
     "text": [
      "Hello World\n"
     ]
    }
   ],
   "source": [
    "# a就是变量，字符串型变量\n",
    "a = 'Hello World'\n",
    "print(a)"
   ]
  },
  {
   "cell_type": "code",
   "execution_count": 25,
   "metadata": {},
   "outputs": [
    {
     "name": "stdout",
     "output_type": "stream",
     "text": [
      "1\n"
     ]
    }
   ],
   "source": [
    "a = 1\n",
    "print(a)"
   ]
  },
  {
   "cell_type": "code",
   "execution_count": 26,
   "metadata": {},
   "outputs": [
    {
     "name": "stdout",
     "output_type": "stream",
     "text": [
      "I'm liupan\n",
      "\"cat\"\n"
     ]
    }
   ],
   "source": [
    "a = \"I'm liupan\"\n",
    "b = '\"cat\"'\n",
    "print(a)\n",
    "print(b)"
   ]
  },
  {
   "cell_type": "code",
   "execution_count": 27,
   "metadata": {},
   "outputs": [
    {
     "name": "stdout",
     "output_type": "stream",
     "text": [
      "hello world\n"
     ]
    }
   ],
   "source": [
    "a = 'Hello World'\n",
    "b = a.upper()\n",
    "b = b.lower()\n",
    "print(b)"
   ]
  },
  {
   "cell_type": "markdown",
   "metadata": {},
   "source": [
    "* \\n: 表示换行\n",
    "* \\t: 制表符"
   ]
  },
  {
   "cell_type": "code",
   "execution_count": 28,
   "metadata": {},
   "outputs": [
    {
     "name": "stdout",
     "output_type": "stream",
     "text": [
      "\tHello World\n"
     ]
    }
   ],
   "source": [
    "print('\\tHello World')"
   ]
  },
  {
   "cell_type": "markdown",
   "metadata": {},
   "source": [
    "* lstrip：表示删除左边的空格\n",
    "* rstrip：删除右边的空格\n",
    "* strip：删除两边的空格"
   ]
  },
  {
   "cell_type": "code",
   "execution_count": 29,
   "metadata": {},
   "outputs": [
    {
     "data": {
      "text/plain": [
       "'Hello World '"
      ]
     },
     "execution_count": 29,
     "metadata": {},
     "output_type": "execute_result"
    },
    {
     "data": {
      "text/plain": [
       "' Hello World'"
      ]
     },
     "execution_count": 29,
     "metadata": {},
     "output_type": "execute_result"
    },
    {
     "data": {
      "text/plain": [
       "'Hello World'"
      ]
     },
     "execution_count": 29,
     "metadata": {},
     "output_type": "execute_result"
    }
   ],
   "source": [
    "a = ' Hello World '\n",
    "a.lstrip()\n",
    "a.rstrip()\n",
    "a.strip()"
   ]
  },
  {
   "cell_type": "markdown",
   "metadata": {},
   "source": [
    "## 数字型\n",
    "\\+ \\- \\* /"
   ]
  },
  {
   "cell_type": "code",
   "execution_count": 30,
   "metadata": {},
   "outputs": [
    {
     "data": {
      "text/plain": [
       "True"
      ]
     },
     "execution_count": 30,
     "metadata": {},
     "output_type": "execute_result"
    },
    {
     "data": {
      "text/plain": [
       "False"
      ]
     },
     "execution_count": 30,
     "metadata": {},
     "output_type": "execute_result"
    },
    {
     "data": {
      "text/plain": [
       "'\\n多行注释1\\n多行注释2\\n'"
      ]
     },
     "execution_count": 30,
     "metadata": {},
     "output_type": "execute_result"
    },
    {
     "data": {
      "text/plain": [
       "5"
      ]
     },
     "execution_count": 30,
     "metadata": {},
     "output_type": "execute_result"
    },
    {
     "data": {
      "text/plain": [
       "1"
      ]
     },
     "execution_count": 30,
     "metadata": {},
     "output_type": "execute_result"
    },
    {
     "data": {
      "text/plain": [
       "6"
      ]
     },
     "execution_count": 30,
     "metadata": {},
     "output_type": "execute_result"
    },
    {
     "data": {
      "text/plain": [
       "1.5"
      ]
     },
     "execution_count": 30,
     "metadata": {},
     "output_type": "execute_result"
    }
   ],
   "source": [
    "# = 表示赋值\n",
    "a = 1\n",
    "b = 2\n",
    "\n",
    "# == 表示判断是否等于\n",
    "a == 1 # 结果为True\n",
    "a == 2 # 结果为False\n",
    "\n",
    "a += 1\n",
    "# 等价于\n",
    "a = a + 1\n",
    "\n",
    "\n",
    "# 单行注释\n",
    "\n",
    "\"\"\"\n",
    "多行注释1\n",
    "多行注释2\n",
    "\"\"\"\n",
    "a + b\n",
    "a - b\n",
    "a * b\n",
    "a / b"
   ]
  },
  {
   "cell_type": "markdown",
   "metadata": {},
   "source": [
    "### 逻辑运算\n",
    "\n",
    "* and 且\n",
    "* or 或\n",
    "* not 非"
   ]
  },
  {
   "cell_type": "code",
   "execution_count": 31,
   "metadata": {},
   "outputs": [
    {
     "data": {
      "text/plain": [
       "False"
      ]
     },
     "execution_count": 31,
     "metadata": {},
     "output_type": "execute_result"
    },
    {
     "data": {
      "text/plain": [
       "True"
      ]
     },
     "execution_count": 31,
     "metadata": {},
     "output_type": "execute_result"
    },
    {
     "data": {
      "text/plain": [
       "False"
      ]
     },
     "execution_count": 31,
     "metadata": {},
     "output_type": "execute_result"
    }
   ],
   "source": [
    "a = True\n",
    "b = False\n",
    "\n",
    "a and b # False\n",
    "a or b # True\n",
    "not a # False"
   ]
  },
  {
   "cell_type": "code",
   "execution_count": 32,
   "metadata": {},
   "outputs": [],
   "source": [
    "import this"
   ]
  },
  {
   "cell_type": "markdown",
   "metadata": {},
   "source": [
    "## 列表 "
   ]
  },
  {
   "cell_type": "code",
   "execution_count": 33,
   "metadata": {},
   "outputs": [
    {
     "data": {
      "text/plain": [
       "['red', 'green', 'blue']"
      ]
     },
     "execution_count": 33,
     "metadata": {},
     "output_type": "execute_result"
    },
    {
     "data": {
      "text/plain": [
       "'red'"
      ]
     },
     "execution_count": 33,
     "metadata": {},
     "output_type": "execute_result"
    },
    {
     "data": {
      "text/plain": [
       "'green'"
      ]
     },
     "execution_count": 33,
     "metadata": {},
     "output_type": "execute_result"
    },
    {
     "data": {
      "text/plain": [
       "'blue'"
      ]
     },
     "execution_count": 33,
     "metadata": {},
     "output_type": "execute_result"
    },
    {
     "data": {
      "text/plain": [
       "['red', 'green', 'blue', 'yellow']"
      ]
     },
     "execution_count": 33,
     "metadata": {},
     "output_type": "execute_result"
    },
    {
     "data": {
      "text/plain": [
       "'yellow'"
      ]
     },
     "execution_count": 33,
     "metadata": {},
     "output_type": "execute_result"
    },
    {
     "data": {
      "text/plain": [
       "['red', 'green']"
      ]
     },
     "execution_count": 33,
     "metadata": {},
     "output_type": "execute_result"
    },
    {
     "data": {
      "text/plain": [
       "[0, 'red']"
      ]
     },
     "execution_count": 33,
     "metadata": {},
     "output_type": "execute_result"
    }
   ],
   "source": [
    "colors = ['red', 'green', 'blue']\n",
    "colors\n",
    "\n",
    "# 根据位置来访问列表元素\n",
    "colors[0]\n",
    "colors[1]\n",
    "colors[-1]\n",
    "\n",
    "# 新增元素\n",
    "colors.append('yellow')\n",
    "colors\n",
    "\n",
    "# 删除元素\n",
    "colors.remove('blue')\n",
    "\n",
    "# 在指定位置插入元素\n",
    "colors.insert(1, 'purple')\n",
    "\n",
    "# del\n",
    "# 和remove的区别：del删除指定位置\n",
    "del colors[1]\n",
    "\n",
    "# pop和append对应\n",
    "colors.pop()\n",
    "\n",
    "colors\n",
    "\n",
    "b = [0, 1, 2, 3, 4]\n",
    "b = [0 , 'red']\n",
    "b"
   ]
  },
  {
   "cell_type": "code",
   "execution_count": 34,
   "metadata": {
    "scrolled": false
   },
   "outputs": [
    {
     "data": {
      "text/plain": [
       "[{'id': 1, 'name': '市委机构', 'code': '01', 'seq': 1, 'area_id': 1, 'pid': -1},\n",
       " {'id': 2, 'name': '市政府部门', 'code': '02', 'seq': 2, 'area_id': 1, 'pid': -1},\n",
       " {'id': 3,\n",
       "  'name': '直属单位、部门管理单位',\n",
       "  'code': '03',\n",
       "  'seq': 3,\n",
       "  'area_id': 1,\n",
       "  'pid': -1},\n",
       " {'id': 4, 'name': '中（区）直单位', 'code': '04', 'seq': 4, 'area_id': 1, 'pid': -1},\n",
       " {'id': 5, 'name': '其他单位', 'code': '05', 'seq': 5, 'area_id': 1, 'pid': -1},\n",
       " {'id': 6, 'name': '纪监委机关', 'code': '01-01', 'seq': 1, 'area_id': 1, 'pid': 1},\n",
       " {'id': 7, 'name': '市委办', 'code': '01-02', 'seq': 2, 'area_id': 1, 'pid': 1},\n",
       " {'id': 8, 'name': '组织部', 'code': '01-03', 'seq': 3, 'area_id': 1, 'pid': 1},\n",
       " {'id': 9, 'name': '统战部', 'code': '01-04', 'seq': 4, 'area_id': 1, 'pid': 1},\n",
       " {'id': 10, 'name': '宣传部', 'code': '01-05', 'seq': 5, 'area_id': 1, 'pid': 1},\n",
       " {'id': 11, 'name': '老干局', 'code': '01-06', 'seq': 6, 'area_id': 1, 'pid': 1},\n",
       " {'id': 12, 'name': '政研室', 'code': '01-07', 'seq': 7, 'area_id': 1, 'pid': 1},\n",
       " {'id': 13, 'name': '国安委', 'code': '01-08', 'seq': 8, 'area_id': 1, 'pid': 1},\n",
       " {'id': 14, 'name': '网信办', 'code': '01-09', 'seq': 9, 'area_id': 1, 'pid': 1},\n",
       " {'id': 15, 'name': '政法委', 'code': '01-10', 'seq': 10, 'area_id': 1, 'pid': 1},\n",
       " {'id': 16,\n",
       "  'name': '直属机关工委',\n",
       "  'code': '01-11',\n",
       "  'seq': 11,\n",
       "  'area_id': 1,\n",
       "  'pid': 1},\n",
       " {'id': 17, 'name': '巡察办', 'code': '01-12', 'seq': 12, 'area_id': 1, 'pid': 1},\n",
       " {'id': 18,\n",
       "  'name': '人民政府办公室',\n",
       "  'code': '02-01',\n",
       "  'seq': 1,\n",
       "  'area_id': 1,\n",
       "  'pid': 2},\n",
       " {'id': 19, 'name': '发改委', 'code': '02-02', 'seq': 2, 'area_id': 1, 'pid': 2},\n",
       " {'id': 20, 'name': '教育局', 'code': '02-03', 'seq': 3, 'area_id': 1, 'pid': 2},\n",
       " {'id': 21, 'name': '科技局', 'code': '02-04', 'seq': 4, 'area_id': 1, 'pid': 2},\n",
       " {'id': 22,\n",
       "  'name': '经济和信息化局',\n",
       "  'code': '02-05',\n",
       "  'seq': 5,\n",
       "  'area_id': 1,\n",
       "  'pid': 2},\n",
       " {'id': 23,\n",
       "  'name': '民族事务委员会',\n",
       "  'code': '02-06',\n",
       "  'seq': 6,\n",
       "  'area_id': 1,\n",
       "  'pid': 2},\n",
       " {'id': 24, 'name': '公安局', 'code': '02-07', 'seq': 7, 'area_id': 1, 'pid': 2},\n",
       " {'id': 25, 'name': '民政局', 'code': '02-08', 'seq': 8, 'area_id': 1, 'pid': 2},\n",
       " {'id': 26, 'name': '司法局', 'code': '02-09', 'seq': 9, 'area_id': 1, 'pid': 2},\n",
       " {'id': 27,\n",
       "  'name': '农业农村局',\n",
       "  'code': '02-10',\n",
       "  'seq': 10,\n",
       "  'area_id': 1,\n",
       "  'pid': 2},\n",
       " {'id': 28, 'name': '商务局', 'code': '02-11', 'seq': 11, 'area_id': 1, 'pid': 2},\n",
       " {'id': 29, 'name': '审计局', 'code': '02-12', 'seq': 12, 'area_id': 1, 'pid': 2},\n",
       " {'id': 30, 'name': '统计局', 'code': '02-13', 'seq': 13, 'area_id': 1, 'pid': 2},\n",
       " {'id': 31,\n",
       "  'name': '卫生健康委员会',\n",
       "  'code': '02-14',\n",
       "  'seq': 14,\n",
       "  'area_id': 1,\n",
       "  'pid': 2},\n",
       " {'id': 32, 'name': '财政局', 'code': '02-15', 'seq': 15, 'area_id': 1, 'pid': 2},\n",
       " {'id': 33,\n",
       "  'name': '人力资源和社会保障局',\n",
       "  'code': '02-16',\n",
       "  'seq': 16,\n",
       "  'area_id': 1,\n",
       "  'pid': 2},\n",
       " {'id': 34,\n",
       "  'name': '自然资源局',\n",
       "  'code': '02-17',\n",
       "  'seq': 17,\n",
       "  'area_id': 1,\n",
       "  'pid': 2},\n",
       " {'id': 35,\n",
       "  'name': '生态环境局',\n",
       "  'code': '02-18',\n",
       "  'seq': 18,\n",
       "  'area_id': 1,\n",
       "  'pid': 2},\n",
       " {'id': 36,\n",
       "  'name': '住房和城乡建设局',\n",
       "  'code': '02-19',\n",
       "  'seq': 19,\n",
       "  'area_id': 1,\n",
       "  'pid': 2},\n",
       " {'id': 37,\n",
       "  'name': '交通运输局',\n",
       "  'code': '02-20',\n",
       "  'seq': 20,\n",
       "  'area_id': 1,\n",
       "  'pid': 2},\n",
       " {'id': 38, 'name': '水利局', 'code': '02-21', 'seq': 21, 'area_id': 1, 'pid': 2},\n",
       " {'id': 39,\n",
       "  'name': '旅游发展局',\n",
       "  'code': '02-22',\n",
       "  'seq': 22,\n",
       "  'area_id': 1,\n",
       "  'pid': 2},\n",
       " {'id': 40,\n",
       "  'name': '退役军人事务局',\n",
       "  'code': '02-23',\n",
       "  'seq': 23,\n",
       "  'area_id': 1,\n",
       "  'pid': 2},\n",
       " {'id': 41,\n",
       "  'name': '应急管理局',\n",
       "  'code': '02-24',\n",
       "  'seq': 24,\n",
       "  'area_id': 1,\n",
       "  'pid': 2},\n",
       " {'id': 42,\n",
       "  'name': '政府国有资产监督管理委员会',\n",
       "  'code': '02-25',\n",
       "  'seq': 25,\n",
       "  'area_id': 1,\n",
       "  'pid': 2},\n",
       " {'id': 43,\n",
       "  'name': '市场监督管理局',\n",
       "  'code': '02-26',\n",
       "  'seq': 26,\n",
       "  'area_id': 1,\n",
       "  'pid': 2},\n",
       " {'id': 44,\n",
       "  'name': '广播电视局',\n",
       "  'code': '02-27',\n",
       "  'seq': 27,\n",
       "  'area_id': 1,\n",
       "  'pid': 2},\n",
       " {'id': 45,\n",
       "  'name': '扶贫开发办公室',\n",
       "  'code': '02-28',\n",
       "  'seq': 28,\n",
       "  'area_id': 1,\n",
       "  'pid': 2},\n",
       " {'id': 46,\n",
       "  'name': '林业和草原局',\n",
       "  'code': '02-29',\n",
       "  'seq': 29,\n",
       "  'area_id': 1,\n",
       "  'pid': 2},\n",
       " {'id': 47,\n",
       "  'name': '宗教事务局',\n",
       "  'code': '02-30',\n",
       "  'seq': 30,\n",
       "  'area_id': 1,\n",
       "  'pid': 2},\n",
       " {'id': 48,\n",
       "  'name': '医疗保障局',\n",
       "  'code': '02-31',\n",
       "  'seq': 31,\n",
       "  'area_id': 1,\n",
       "  'pid': 2},\n",
       " {'id': 49,\n",
       "  'name': '政府研究室',\n",
       "  'code': '02-32',\n",
       "  'seq': 32,\n",
       "  'area_id': 1,\n",
       "  'pid': 2},\n",
       " {'id': 50, 'name': '信访局', 'code': '02-33', 'seq': 33, 'area_id': 1, 'pid': 2},\n",
       " {'id': 51,\n",
       "  'name': '城市管理和综合执法局',\n",
       "  'code': '02-34',\n",
       "  'seq': 34,\n",
       "  'area_id': 1,\n",
       "  'pid': 2},\n",
       " {'id': 52, 'name': '文化局', 'code': '02-35', 'seq': 35, 'area_id': 1, 'pid': 2},\n",
       " {'id': 53,\n",
       "  'name': '新区开发建设管理委员会',\n",
       "  'code': '02-36',\n",
       "  'seq': 36,\n",
       "  'area_id': 1,\n",
       "  'pid': 2},\n",
       " {'id': 54,\n",
       "  'name': '藏语委办公室（编译局）',\n",
       "  'code': '03-01',\n",
       "  'seq': 1,\n",
       "  'area_id': 1,\n",
       "  'pid': 3},\n",
       " {'id': 55, 'name': '藏医院', 'code': '03-02', 'seq': 2, 'area_id': 1, 'pid': 3},\n",
       " {'id': 56, 'name': '畜牧总站', 'code': '03-03', 'seq': 3, 'area_id': 1, 'pid': 3},\n",
       " {'id': 57, 'name': '职校', 'code': '03-04', 'seq': 4, 'area_id': 1, 'pid': 3},\n",
       " {'id': 58,\n",
       "  'name': '脱贫攻坚指挥部办公室',\n",
       "  'code': '03-05',\n",
       "  'seq': 5,\n",
       "  'area_id': 1,\n",
       "  'pid': 3},\n",
       " {'id': 59, 'name': '地震局', 'code': '03-06', 'seq': 6, 'area_id': 1, 'pid': 3},\n",
       " {'id': 60, 'name': '农推总站', 'code': '03-07', 'seq': 7, 'area_id': 1, 'pid': 3},\n",
       " {'id': 61,\n",
       "  'name': '昌都市投资有限公司',\n",
       "  'code': '03-08',\n",
       "  'seq': 8,\n",
       "  'area_id': 1,\n",
       "  'pid': 3},\n",
       " {'id': 62, 'name': '人民医院', 'code': '03-09', 'seq': 9, 'area_id': 1, 'pid': 3},\n",
       " {'id': 63,\n",
       "  'name': '行政学校',\n",
       "  'code': '03-10',\n",
       "  'seq': 10,\n",
       "  'area_id': 1,\n",
       "  'pid': 3},\n",
       " {'id': 64, 'name': '经开区', 'code': '03-11', 'seq': 11, 'area_id': 1, 'pid': 3},\n",
       " {'id': 65,\n",
       "  'name': '第二中等职业技术学校',\n",
       "  'code': '03-12',\n",
       "  'seq': 12,\n",
       "  'area_id': 1,\n",
       "  'pid': 3},\n",
       " {'id': 66, 'name': '市安全局', 'code': '04-01', 'seq': 1, 'area_id': 1, 'pid': 4},\n",
       " {'id': 67,\n",
       "  'name': '通信监管办',\n",
       "  'code': '04-02',\n",
       "  'seq': 2,\n",
       "  'area_id': 1,\n",
       "  'pid': 4},\n",
       " {'id': 68,\n",
       "  'name': '国家税务总局昌都市税务局',\n",
       "  'code': '04-03',\n",
       "  'seq': 3,\n",
       "  'area_id': 1,\n",
       "  'pid': 4},\n",
       " {'id': 69,\n",
       "  'name': '中国人民银行昌都市中心支行',\n",
       "  'code': '04-04',\n",
       "  'seq': 4,\n",
       "  'area_id': 1,\n",
       "  'pid': 4},\n",
       " {'id': 70,\n",
       "  'name': '中国民用航空昌都站',\n",
       "  'code': '04-05',\n",
       "  'seq': 5,\n",
       "  'area_id': 1,\n",
       "  'pid': 4},\n",
       " {'id': 71,\n",
       "  'name': '国家统计局昌都调查队',\n",
       "  'code': '04-06',\n",
       "  'seq': 6,\n",
       "  'area_id': 1,\n",
       "  'pid': 4},\n",
       " {'id': 72, 'name': '水文分局', 'code': '04-07', 'seq': 7, 'area_id': 1, 'pid': 4},\n",
       " {'id': 73, 'name': '公路分局', 'code': '04-08', 'seq': 8, 'area_id': 1, 'pid': 4},\n",
       " {'id': 74, 'name': '气象局', 'code': '04-09', 'seq': 9, 'area_id': 1, 'pid': 4},\n",
       " {'id': 75,\n",
       "  'name': '专用通信局',\n",
       "  'code': '04-10',\n",
       "  'seq': 10,\n",
       "  'area_id': 1,\n",
       "  'pid': 4},\n",
       " {'id': 76,\n",
       "  'name': '邮政管理局',\n",
       "  'code': '04-11',\n",
       "  'seq': 11,\n",
       "  'area_id': 1,\n",
       "  'pid': 4},\n",
       " {'id': 77,\n",
       "  'name': '昌都报社',\n",
       "  'code': '04-12',\n",
       "  'seq': 12,\n",
       "  'area_id': 1,\n",
       "  'pid': 4},\n",
       " {'id': 78,\n",
       "  'name': '第一幼儿园',\n",
       "  'code': '04-13',\n",
       "  'seq': 13,\n",
       "  'area_id': 1,\n",
       "  'pid': 4},\n",
       " {'id': 79,\n",
       "  'name': '第三幼儿园',\n",
       "  'code': '04-14',\n",
       "  'seq': 14,\n",
       "  'area_id': 1,\n",
       "  'pid': 4},\n",
       " {'id': 80,\n",
       "  'name': '第五幼儿园',\n",
       "  'code': '04-15',\n",
       "  'seq': 15,\n",
       "  'area_id': 1,\n",
       "  'pid': 4},\n",
       " {'id': 81,\n",
       "  'name': '实验幼儿园',\n",
       "  'code': '04-16',\n",
       "  'seq': 16,\n",
       "  'area_id': 1,\n",
       "  'pid': 4},\n",
       " {'id': 82,\n",
       "  'name': '第二小学',\n",
       "  'code': '04-17',\n",
       "  'seq': 17,\n",
       "  'area_id': 1,\n",
       "  'pid': 4},\n",
       " {'id': 83,\n",
       "  'name': '初级中学',\n",
       "  'code': '04-18',\n",
       "  'seq': 18,\n",
       "  'area_id': 1,\n",
       "  'pid': 4},\n",
       " {'id': 84,\n",
       "  'name': '第一高级中学',\n",
       "  'code': '04-19',\n",
       "  'seq': 19,\n",
       "  'area_id': 1,\n",
       "  'pid': 4},\n",
       " {'id': 85,\n",
       "  'name': '第四高级中学',\n",
       "  'code': '04-20',\n",
       "  'seq': 20,\n",
       "  'area_id': 1,\n",
       "  'pid': 4},\n",
       " {'id': 86,\n",
       "  'name': '特殊教育学校',\n",
       "  'code': '04-21',\n",
       "  'seq': 21,\n",
       "  'area_id': 1,\n",
       "  'pid': 4},\n",
       " {'id': 87,\n",
       "  'name': '市人大常委办',\n",
       "  'code': '05-01',\n",
       "  'seq': 1,\n",
       "  'area_id': 1,\n",
       "  'pid': 5},\n",
       " {'id': 88, 'name': '工会', 'code': '05-02', 'seq': 2, 'area_id': 1, 'pid': 5},\n",
       " {'id': 89, 'name': '工商联', 'code': '05-03', 'seq': 3, 'area_id': 1, 'pid': 5},\n",
       " {'id': 90, 'name': '妇联', 'code': '05-04', 'seq': 4, 'area_id': 1, 'pid': 5},\n",
       " {'id': 91, 'name': '残联', 'code': '05-05', 'seq': 5, 'area_id': 1, 'pid': 5},\n",
       " {'id': 92, 'name': '中级法院', 'code': '05-06', 'seq': 6, 'area_id': 1, 'pid': 5},\n",
       " {'id': 93, 'name': '团委', 'code': '05-07', 'seq': 7, 'area_id': 1, 'pid': 5},\n",
       " {'id': 94, 'name': '党校', 'code': '05-08', 'seq': 8, 'area_id': 1, 'pid': 5},\n",
       " {'id': 95,\n",
       "  'name': '人民检察院',\n",
       "  'code': '05-09',\n",
       "  'seq': 9,\n",
       "  'area_id': 1,\n",
       "  'pid': 5},\n",
       " {'id': 96,\n",
       "  'name': '市政协办',\n",
       "  'code': '05-10',\n",
       "  'seq': 10,\n",
       "  'area_id': 1,\n",
       "  'pid': 5},\n",
       " {'id': 97,\n",
       "  'name': '消防支队',\n",
       "  'code': '05-11',\n",
       "  'seq': 11,\n",
       "  'area_id': 1,\n",
       "  'pid': 5},\n",
       " {'id': 98,\n",
       "  'name': '反恐支队',\n",
       "  'code': '05-12',\n",
       "  'seq': 12,\n",
       "  'area_id': 1,\n",
       "  'pid': 5},\n",
       " {'id': 99,\n",
       "  'name': '武警支队',\n",
       "  'code': '05-13',\n",
       "  'seq': 13,\n",
       "  'area_id': 1,\n",
       "  'pid': 5},\n",
       " {'id': 100,\n",
       "  'name': '军分区',\n",
       "  'code': '05-14',\n",
       "  'seq': 14,\n",
       "  'area_id': 1,\n",
       "  'pid': 5}]"
      ]
     },
     "execution_count": 34,
     "metadata": {},
     "output_type": "execute_result"
    }
   ],
   "source": [
    "import openpyxl\n",
    "\n",
    "def read_excel():\n",
    "    excel_file = r'data/bss.xlsx'\n",
    "    inwb = openpyxl.load_workbook(excel_file)\n",
    "    ws = inwb['Sheet1']\n",
    "\n",
    "    # 获取sheet的最大行数和列数\n",
    "    rows = ws.max_row\n",
    "    cols = ws.max_column\n",
    "    all_item = []\n",
    "    for r in range(2, rows + 1):\n",
    "        id = ws.cell(r, 1).value\n",
    "        name = ws.cell(r, 2).value\n",
    "        code = ws.cell(r, 3).value\n",
    "        seq = ws.cell(r, 4).value\n",
    "        area_id = ws.cell(r, 5).value\n",
    "        pid = ws.cell(r, 6).value\n",
    "        item = {\n",
    "            'id': id,\n",
    "            'name': name,\n",
    "            'code': code,\n",
    "            'seq': seq,\n",
    "            'area_id': area_id,\n",
    "            'pid': pid\n",
    "        }\n",
    "        all_item.append(item)\n",
    "    return all_item\n",
    "\n",
    "all_item = read_excel()\n",
    "all_item"
   ]
  },
  {
   "cell_type": "code",
   "execution_count": 35,
   "metadata": {},
   "outputs": [
    {
     "data": {
      "text/plain": [
       "range(0, 10)"
      ]
     },
     "execution_count": 35,
     "metadata": {},
     "output_type": "execute_result"
    },
    {
     "data": {
      "text/plain": [
       "range(1, 9)"
      ]
     },
     "execution_count": 35,
     "metadata": {},
     "output_type": "execute_result"
    },
    {
     "data": {
      "text/plain": [
       "[0, 1, 2, 3, 4, 5, 6, 7, 8, 9]"
      ]
     },
     "execution_count": 35,
     "metadata": {},
     "output_type": "execute_result"
    },
    {
     "data": {
      "text/plain": [
       "[1, 3, 5, 7, 9]"
      ]
     },
     "execution_count": 35,
     "metadata": {},
     "output_type": "execute_result"
    },
    {
     "data": {
      "text/plain": [
       "[0, 2, 4, 6, 8, 10]"
      ]
     },
     "execution_count": 35,
     "metadata": {},
     "output_type": "execute_result"
    }
   ],
   "source": [
    "# range函数/方法\n",
    "\n",
    "range(0, 10) # 表示[0, 10), 0~9\n",
    "range(1, 9) # 表示[1, 9), 1~8\n",
    "\n",
    "# 第一个参数 起始值\n",
    "# 第二个参数 结束值，不包含\n",
    "# 第三个参数 步长\n",
    "list(range(10))\n",
    "list(range(1, 10, 2))\n",
    "list(range(0, 11, 2))"
   ]
  },
  {
   "cell_type": "markdown",
   "metadata": {},
   "source": [
    "### 列表排序"
   ]
  },
  {
   "cell_type": "code",
   "execution_count": 36,
   "metadata": {},
   "outputs": [
    {
     "data": {
      "text/plain": [
       "[2, 4, 12, 23, 34, 78]"
      ]
     },
     "execution_count": 36,
     "metadata": {},
     "output_type": "execute_result"
    },
    {
     "data": {
      "text/plain": [
       "[78, 34, 23, 12, 4, 2]"
      ]
     },
     "execution_count": 36,
     "metadata": {},
     "output_type": "execute_result"
    },
    {
     "data": {
      "text/plain": [
       "[2, 4, 12, 23, 34, 78]"
      ]
     },
     "execution_count": 36,
     "metadata": {},
     "output_type": "execute_result"
    },
    {
     "data": {
      "text/plain": [
       "[78, 34, 23, 12, 4, 2]"
      ]
     },
     "execution_count": 36,
     "metadata": {},
     "output_type": "execute_result"
    },
    {
     "data": {
      "text/plain": [
       "[2, 4, 12, 23, 34, 78]"
      ]
     },
     "execution_count": 36,
     "metadata": {},
     "output_type": "execute_result"
    },
    {
     "name": "stdout",
     "output_type": "stream",
     "text": [
      "RED\n",
      "YELLOW\n",
      "BLUE\n"
     ]
    }
   ],
   "source": [
    "a = [12, 34, 2, 4, 78, 23]\n",
    "# 永久性排序，也就是说会改变a的结构\n",
    "a.sort()\n",
    "a\n",
    "a.sort(reverse=True)\n",
    "a\n",
    "\n",
    "# 临时排序，也就是说不会改变a的结构\n",
    "sorted(a)\n",
    "a\n",
    "\n",
    "# 反转/颠倒\n",
    "a.reverse()\n",
    "a\n",
    "\n",
    "\n",
    "b = ['red', 'yellow', 'blue']\n",
    "for item in b:\n",
    "    print(item.upper())"
   ]
  },
  {
   "cell_type": "code",
   "execution_count": null,
   "metadata": {},
   "outputs": [],
   "source": []
  }
 ],
 "metadata": {
  "kernelspec": {
   "display_name": "Python 3",
   "language": "python",
   "name": "python3"
  },
  "language_info": {
   "codemirror_mode": {
    "name": "ipython",
    "version": 3
   },
   "file_extension": ".py",
   "mimetype": "text/x-python",
   "name": "python",
   "nbconvert_exporter": "python",
   "pygments_lexer": "ipython3",
   "version": "3.7.4"
  }
 },
 "nbformat": 4,
 "nbformat_minor": 2
}
